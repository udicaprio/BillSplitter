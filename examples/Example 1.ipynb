{
 "cells": [
  {
   "cell_type": "markdown",
   "id": "8a09231b",
   "metadata": {},
   "source": [
    "### Case description"
   ]
  },
  {
   "cell_type": "markdown",
   "id": "8888ae3c",
   "metadata": {},
   "source": [
    "Luca, Marco and Silvia went out for a dinner. They decided to take a pizza. At the the bill of the restaurant was 40€, they decided to split it flatly, without caring who took what. Luca payed the entire bill. After the pizza, they decided to drink something togheter in a bar. Marco and Silvia took one beer each (5€ per beer) and Silvia payed the entire bill. Luca took a cocktail and Marco decided to pay (10€). They decided to use BillSplitter to split the bill.<br>\n",
    "Below, you can find the code implementation of the example written above."
   ]
  },
  {
   "cell_type": "markdown",
   "id": "6e415fd4",
   "metadata": {},
   "source": [
    "### Code implementation"
   ]
  },
  {
   "cell_type": "markdown",
   "id": "8777fa8f",
   "metadata": {},
   "source": [
    "1. Importing the library"
   ]
  },
  {
   "cell_type": "code",
   "execution_count": 1,
   "id": "790633b5",
   "metadata": {},
   "outputs": [],
   "source": [
    "import os\n",
    "import sys\n",
    "module_path = os.path.abspath(os.path.join('..'))\n",
    "if module_path not in sys.path:\n",
    "    sys.path.append(module_path+\"\\\\billsplitter\")\n",
    "\n",
    "from billsplitter import Splitter"
   ]
  },
  {
   "cell_type": "markdown",
   "id": "499acda2",
   "metadata": {},
   "source": [
    "2. Creation of the split instance"
   ]
  },
  {
   "cell_type": "code",
   "execution_count": 2,
   "id": "7206041b",
   "metadata": {},
   "outputs": [],
   "source": [
    "people_name = ['Luca', 'Marco', 'Silvia']\n",
    "splitter = Splitter(people_name)"
   ]
  },
  {
   "cell_type": "markdown",
   "id": "f0e807da",
   "metadata": {},
   "source": [
    "3. Logging the payments"
   ]
  },
  {
   "cell_type": "code",
   "execution_count": 3,
   "id": "60a8f9ea",
   "metadata": {},
   "outputs": [],
   "source": [
    "#At the restaurant, Luca payed for everyone\n",
    "splitter.add_expense(['Luca'], 40)\n",
    "\n",
    "#At the bar, Silvia payed a beer for Marco and herself\n",
    "splitter.add_expense(['Silvia'], 10, ['Marco', 'Silvia'])\n",
    "\n",
    "#At the bar, Marco payed a cocktail for Luca\n",
    "splitter.add_expense(['Marco'], 10, ['Luca'])"
   ]
  },
  {
   "cell_type": "markdown",
   "id": "05763e9f",
   "metadata": {},
   "source": [
    "4. Running the calculation"
   ]
  },
  {
   "cell_type": "code",
   "execution_count": 4,
   "id": "62c1e278",
   "metadata": {},
   "outputs": [],
   "source": [
    "splitter.run_calculation()"
   ]
  },
  {
   "cell_type": "markdown",
   "id": "12627cc7",
   "metadata": {},
   "source": [
    "5. Getting the net"
   ]
  },
  {
   "cell_type": "code",
   "execution_count": 5,
   "id": "213f1a5c",
   "metadata": {},
   "outputs": [
    {
     "data": {
      "text/plain": [
       "array([16.66666667, -8.33333333, -8.33333333])"
      ]
     },
     "execution_count": 5,
     "metadata": {},
     "output_type": "execute_result"
    }
   ],
   "source": [
    "splitter.net"
   ]
  },
  {
   "cell_type": "markdown",
   "id": "732a0e54",
   "metadata": {},
   "source": [
    "### Resolution"
   ]
  },
  {
   "cell_type": "markdown",
   "id": "29e0dad0",
   "metadata": {},
   "source": [
    "At the end of the night, Marco and Silvia own 8.33€ each to Luca"
   ]
  }
 ],
 "metadata": {
  "kernelspec": {
   "display_name": "Python 3 (ipykernel)",
   "language": "python",
   "name": "python3"
  },
  "language_info": {
   "codemirror_mode": {
    "name": "ipython",
    "version": 3
   },
   "file_extension": ".py",
   "mimetype": "text/x-python",
   "name": "python",
   "nbconvert_exporter": "python",
   "pygments_lexer": "ipython3",
   "version": "3.9.7"
  }
 },
 "nbformat": 4,
 "nbformat_minor": 5
}
